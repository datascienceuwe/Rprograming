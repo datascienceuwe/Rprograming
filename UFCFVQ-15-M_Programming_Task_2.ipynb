{
 "cells": [
  {
   "cell_type": "markdown",
   "metadata": {
    "deletable": false
   },
   "source": [
    "# UFCFVQ-15-M Programming for Data Science (Spring 2022)\n",
    "# Programming Task 2\n",
    "\n",
    "## Student Id: 21071541"
   ]
  },
  {
   "cell_type": "code",
   "execution_count": 2,
   "metadata": {},
   "outputs": [],
   "source": [
    "#  import all libraries\n",
    "import pandas as pd\n",
    "import numpy as np\n",
    "import seaborn as sns\n",
    "sns.set_theme(style=\"whitegrid\")"
   ]
  },
  {
   "cell_type": "markdown",
   "metadata": {
    "deletable": false
   },
   "source": [
    "### Requirement FR9 - Read CSV data from two files and merge it into a single Data Frame "
   ]
  },
  {
   "cell_type": "code",
   "execution_count": 3,
   "metadata": {},
   "outputs": [],
   "source": [
    "#reading csv in dataframe.\n",
    "t2a = pd.read_csv('task2a.csv')\n",
    "t2b = pd.read_csv('task2b.csv')"
   ]
  },
  {
   "cell_type": "code",
   "execution_count": 4,
   "metadata": {},
   "outputs": [
    {
     "data": {
      "text/plain": [
       "Index(['timestamp', 'new_bike_shares'], dtype='object')"
      ]
     },
     "execution_count": 4,
     "metadata": {},
     "output_type": "execute_result"
    }
   ],
   "source": [
    "t2a.columns"
   ]
  },
  {
   "cell_type": "code",
   "execution_count": 5,
   "metadata": {},
   "outputs": [
    {
     "data": {
      "text/plain": [
       "Index(['timestamp', 'temperature', 'feels_like_temp', 'humidity', 'wind_speed',\n",
       "       'is_weekend', 'season_code'],\n",
       "      dtype='object')"
      ]
     },
     "execution_count": 5,
     "metadata": {},
     "output_type": "execute_result"
    }
   ],
   "source": [
    "t2b.columns"
   ]
  },
  {
   "cell_type": "code",
   "execution_count": 6,
   "metadata": {},
   "outputs": [
    {
     "data": {
      "text/plain": [
       "True"
      ]
     },
     "execution_count": 6,
     "metadata": {},
     "output_type": "execute_result"
    }
   ],
   "source": [
    "#comparing timestamps of both dataframe\n",
    "list(t2a.timestamp) == list(t2b.timestamp)"
   ]
  },
  {
   "cell_type": "code",
   "execution_count": 7,
   "metadata": {},
   "outputs": [
    {
     "name": "stdout",
     "output_type": "stream",
     "text": [
      "merge data :  \n",
      "              timestamp  new_bike_shares  temperature  feels_like_temp  \\\n",
      "0      04/01/2015 00:00              182          3.0              2.0   \n",
      "1      04/01/2015 01:00              138          3.0              2.5   \n",
      "2      04/01/2015 02:00              134          2.5              2.5   \n",
      "3      04/01/2015 03:00               72          2.0              2.0   \n",
      "4      04/01/2015 04:00               47          2.0              0.0   \n",
      "...                 ...              ...          ...              ...   \n",
      "17409  03/01/2017 19:00             1042          5.0              1.0   \n",
      "17410  03/01/2017 20:00              541          5.0              1.0   \n",
      "17411  03/01/2017 21:00              337          5.5              1.5   \n",
      "17412  03/01/2017 22:00              224          5.5              1.5   \n",
      "17413  03/01/2017 23:00              139          5.0              1.0   \n",
      "\n",
      "       humidity  wind_speed  is_weekend  season_code  \n",
      "0          93.0         6.0           1            3  \n",
      "1          93.0         5.0           1            3  \n",
      "2          96.5         0.0           1            3  \n",
      "3         100.0         0.0           1            3  \n",
      "4          93.0         6.5           1            3  \n",
      "...         ...         ...         ...          ...  \n",
      "17409      81.0        19.0           0            3  \n",
      "17410      81.0        21.0           0            3  \n",
      "17411      78.5        24.0           0            3  \n",
      "17412      76.0        23.0           0            3  \n",
      "17413      76.0        22.0           0            3  \n",
      "\n",
      "[17414 rows x 8 columns]\n"
     ]
    }
   ],
   "source": [
    "#merge both dataframe based on timestamp column values\n",
    "t2ab = pd.merge(t2a, t2b, on=\"timestamp\")\n",
    "print('merge data :  ')\n",
    "print(t2ab)"
   ]
  },
  {
   "cell_type": "markdown",
   "metadata": {
    "deletable": false
   },
   "source": [
    "<p style=\"color:red; font-weight:bold; font-size:xx-small\">MARK: __%</p>\n",
    "<p style=\"color:red; font-weight:bold; font-size:xx-small\">FEEDBACK: </p>"
   ]
  },
  {
   "cell_type": "markdown",
   "metadata": {
    "deletable": false
   },
   "source": [
    "### Requirement FR10 - Clean the merged data"
   ]
  },
  {
   "cell_type": "code",
   "execution_count": 8,
   "metadata": {},
   "outputs": [
    {
     "name": "stdout",
     "output_type": "stream",
     "text": [
      "table after dropping bike share < 20  : \n",
      "              timestamp  new_bike_shares  temperature  feels_like_temp  \\\n",
      "0      04/01/2015 00:00              182          3.0              2.0   \n",
      "1      04/01/2015 01:00              138          3.0              2.5   \n",
      "2      04/01/2015 02:00              134          2.5              2.5   \n",
      "3      04/01/2015 03:00               72          2.0              2.0   \n",
      "4      04/01/2015 04:00               47          2.0              0.0   \n",
      "...                 ...              ...          ...              ...   \n",
      "17409  03/01/2017 19:00             1042          5.0              1.0   \n",
      "17410  03/01/2017 20:00              541          5.0              1.0   \n",
      "17411  03/01/2017 21:00              337          5.5              1.5   \n",
      "17412  03/01/2017 22:00              224          5.5              1.5   \n",
      "17413  03/01/2017 23:00              139          5.0              1.0   \n",
      "\n",
      "       humidity  wind_speed  is_weekend  \n",
      "0          93.0         6.0           1  \n",
      "1          93.0         5.0           1  \n",
      "2          96.5         0.0           1  \n",
      "3         100.0         0.0           1  \n",
      "4          93.0         6.5           1  \n",
      "...         ...         ...         ...  \n",
      "17409      81.0        19.0           0  \n",
      "17410      81.0        21.0           0  \n",
      "17411      78.5        24.0           0  \n",
      "17412      76.0        23.0           0  \n",
      "17413      76.0        22.0           0  \n",
      "\n",
      "[17373 rows x 7 columns]\n"
     ]
    }
   ],
   "source": [
    "# removing data where new_bike_share is less than 20 and removing season_code column \n",
    "\n",
    "t2ab = t2ab[t2ab['new_bike_shares'] >= 20]\n",
    "t2ab.drop('season_code', inplace=True, axis= 1)\n",
    "print('table after dropping bike share < 20  : ')\n",
    "print(t2ab)"
   ]
  },
  {
   "cell_type": "markdown",
   "metadata": {
    "deletable": false
   },
   "source": [
    "<p style=\"color:red; font-weight:bold; font-size:xx-small\">MARK: __%</p>\n",
    "<p style=\"color:red; font-weight:bold; font-size:xx-small\">FEEDBACK: </p>"
   ]
  },
  {
   "cell_type": "markdown",
   "metadata": {
    "deletable": false
   },
   "source": [
    "### Requirement FR11 - Investigate the distribution of bike shares by time of the day"
   ]
  },
  {
   "cell_type": "code",
   "execution_count": 9,
   "metadata": {},
   "outputs": [
    {
     "data": {
      "text/plain": [
       "Index(['timestamp', 'new_bike_shares', 'temperature', 'feels_like_temp',\n",
       "       'humidity', 'wind_speed', 'is_weekend'],\n",
       "      dtype='object')"
      ]
     },
     "execution_count": 9,
     "metadata": {},
     "output_type": "execute_result"
    }
   ],
   "source": [
    "\n",
    "t2ab.columns"
   ]
  },
  {
   "cell_type": "code",
   "execution_count": 10,
   "metadata": {},
   "outputs": [
    {
     "data": {
      "text/html": [
       "<div>\n",
       "<style scoped>\n",
       "    .dataframe tbody tr th:only-of-type {\n",
       "        vertical-align: middle;\n",
       "    }\n",
       "\n",
       "    .dataframe tbody tr th {\n",
       "        vertical-align: top;\n",
       "    }\n",
       "\n",
       "    .dataframe thead th {\n",
       "        text-align: right;\n",
       "    }\n",
       "</style>\n",
       "<table border=\"1\" class=\"dataframe\">\n",
       "  <thead>\n",
       "    <tr style=\"text-align: right;\">\n",
       "      <th></th>\n",
       "      <th>timestamp</th>\n",
       "      <th>new_bike_shares</th>\n",
       "      <th>temperature</th>\n",
       "      <th>feels_like_temp</th>\n",
       "      <th>humidity</th>\n",
       "      <th>wind_speed</th>\n",
       "      <th>is_weekend</th>\n",
       "    </tr>\n",
       "  </thead>\n",
       "  <tbody>\n",
       "    <tr>\n",
       "      <th>0</th>\n",
       "      <td>04/01/2015 00:00</td>\n",
       "      <td>182</td>\n",
       "      <td>3.0</td>\n",
       "      <td>2.0</td>\n",
       "      <td>93.0</td>\n",
       "      <td>6.0</td>\n",
       "      <td>1</td>\n",
       "    </tr>\n",
       "    <tr>\n",
       "      <th>1</th>\n",
       "      <td>04/01/2015 01:00</td>\n",
       "      <td>138</td>\n",
       "      <td>3.0</td>\n",
       "      <td>2.5</td>\n",
       "      <td>93.0</td>\n",
       "      <td>5.0</td>\n",
       "      <td>1</td>\n",
       "    </tr>\n",
       "    <tr>\n",
       "      <th>2</th>\n",
       "      <td>04/01/2015 02:00</td>\n",
       "      <td>134</td>\n",
       "      <td>2.5</td>\n",
       "      <td>2.5</td>\n",
       "      <td>96.5</td>\n",
       "      <td>0.0</td>\n",
       "      <td>1</td>\n",
       "    </tr>\n",
       "    <tr>\n",
       "      <th>3</th>\n",
       "      <td>04/01/2015 03:00</td>\n",
       "      <td>72</td>\n",
       "      <td>2.0</td>\n",
       "      <td>2.0</td>\n",
       "      <td>100.0</td>\n",
       "      <td>0.0</td>\n",
       "      <td>1</td>\n",
       "    </tr>\n",
       "    <tr>\n",
       "      <th>4</th>\n",
       "      <td>04/01/2015 04:00</td>\n",
       "      <td>47</td>\n",
       "      <td>2.0</td>\n",
       "      <td>0.0</td>\n",
       "      <td>93.0</td>\n",
       "      <td>6.5</td>\n",
       "      <td>1</td>\n",
       "    </tr>\n",
       "  </tbody>\n",
       "</table>\n",
       "</div>"
      ],
      "text/plain": [
       "          timestamp  new_bike_shares  temperature  feels_like_temp  humidity  \\\n",
       "0  04/01/2015 00:00              182          3.0              2.0      93.0   \n",
       "1  04/01/2015 01:00              138          3.0              2.5      93.0   \n",
       "2  04/01/2015 02:00              134          2.5              2.5      96.5   \n",
       "3  04/01/2015 03:00               72          2.0              2.0     100.0   \n",
       "4  04/01/2015 04:00               47          2.0              0.0      93.0   \n",
       "\n",
       "   wind_speed  is_weekend  \n",
       "0         6.0           1  \n",
       "1         5.0           1  \n",
       "2         0.0           1  \n",
       "3         0.0           1  \n",
       "4         6.5           1  "
      ]
     },
     "execution_count": 10,
     "metadata": {},
     "output_type": "execute_result"
    }
   ],
   "source": [
    "t2ab.head()"
   ]
  },
  {
   "cell_type": "code",
   "execution_count": 11,
   "metadata": {},
   "outputs": [],
   "source": [
    "#setting timestamp column to standard date time format.\n",
    "t2ab.timestamp = pd.to_datetime(t2ab.timestamp)"
   ]
  },
  {
   "cell_type": "code",
   "execution_count": 12,
   "metadata": {},
   "outputs": [
    {
     "data": {
      "text/html": [
       "<div>\n",
       "<style scoped>\n",
       "    .dataframe tbody tr th:only-of-type {\n",
       "        vertical-align: middle;\n",
       "    }\n",
       "\n",
       "    .dataframe tbody tr th {\n",
       "        vertical-align: top;\n",
       "    }\n",
       "\n",
       "    .dataframe thead th {\n",
       "        text-align: right;\n",
       "    }\n",
       "</style>\n",
       "<table border=\"1\" class=\"dataframe\">\n",
       "  <thead>\n",
       "    <tr style=\"text-align: right;\">\n",
       "      <th></th>\n",
       "      <th>timestamp</th>\n",
       "      <th>new_bike_shares</th>\n",
       "      <th>temperature</th>\n",
       "      <th>feels_like_temp</th>\n",
       "      <th>humidity</th>\n",
       "      <th>wind_speed</th>\n",
       "      <th>is_weekend</th>\n",
       "    </tr>\n",
       "  </thead>\n",
       "  <tbody>\n",
       "    <tr>\n",
       "      <th>0</th>\n",
       "      <td>2015-04-01 00:00:00</td>\n",
       "      <td>182</td>\n",
       "      <td>3.0</td>\n",
       "      <td>2.0</td>\n",
       "      <td>93.0</td>\n",
       "      <td>6.0</td>\n",
       "      <td>1</td>\n",
       "    </tr>\n",
       "    <tr>\n",
       "      <th>1</th>\n",
       "      <td>2015-04-01 01:00:00</td>\n",
       "      <td>138</td>\n",
       "      <td>3.0</td>\n",
       "      <td>2.5</td>\n",
       "      <td>93.0</td>\n",
       "      <td>5.0</td>\n",
       "      <td>1</td>\n",
       "    </tr>\n",
       "    <tr>\n",
       "      <th>2</th>\n",
       "      <td>2015-04-01 02:00:00</td>\n",
       "      <td>134</td>\n",
       "      <td>2.5</td>\n",
       "      <td>2.5</td>\n",
       "      <td>96.5</td>\n",
       "      <td>0.0</td>\n",
       "      <td>1</td>\n",
       "    </tr>\n",
       "    <tr>\n",
       "      <th>3</th>\n",
       "      <td>2015-04-01 03:00:00</td>\n",
       "      <td>72</td>\n",
       "      <td>2.0</td>\n",
       "      <td>2.0</td>\n",
       "      <td>100.0</td>\n",
       "      <td>0.0</td>\n",
       "      <td>1</td>\n",
       "    </tr>\n",
       "    <tr>\n",
       "      <th>4</th>\n",
       "      <td>2015-04-01 04:00:00</td>\n",
       "      <td>47</td>\n",
       "      <td>2.0</td>\n",
       "      <td>0.0</td>\n",
       "      <td>93.0</td>\n",
       "      <td>6.5</td>\n",
       "      <td>1</td>\n",
       "    </tr>\n",
       "  </tbody>\n",
       "</table>\n",
       "</div>"
      ],
      "text/plain": [
       "            timestamp  new_bike_shares  temperature  feels_like_temp  \\\n",
       "0 2015-04-01 00:00:00              182          3.0              2.0   \n",
       "1 2015-04-01 01:00:00              138          3.0              2.5   \n",
       "2 2015-04-01 02:00:00              134          2.5              2.5   \n",
       "3 2015-04-01 03:00:00               72          2.0              2.0   \n",
       "4 2015-04-01 04:00:00               47          2.0              0.0   \n",
       "\n",
       "   humidity  wind_speed  is_weekend  \n",
       "0      93.0         6.0           1  \n",
       "1      93.0         5.0           1  \n",
       "2      96.5         0.0           1  \n",
       "3     100.0         0.0           1  \n",
       "4      93.0         6.5           1  "
      ]
     },
     "execution_count": 12,
     "metadata": {},
     "output_type": "execute_result"
    }
   ],
   "source": [
    "t2ab.head()"
   ]
  },
  {
   "cell_type": "code",
   "execution_count": 13,
   "metadata": {},
   "outputs": [],
   "source": [
    "#creating a new column time_hour which specifies hour of the day(0-23)\n",
    "t2ab['time_hour'] = t2ab.timestamp.dt.hour"
   ]
  },
  {
   "cell_type": "code",
   "execution_count": 14,
   "metadata": {},
   "outputs": [
    {
     "data": {
      "text/html": [
       "<div>\n",
       "<style scoped>\n",
       "    .dataframe tbody tr th:only-of-type {\n",
       "        vertical-align: middle;\n",
       "    }\n",
       "\n",
       "    .dataframe tbody tr th {\n",
       "        vertical-align: top;\n",
       "    }\n",
       "\n",
       "    .dataframe thead th {\n",
       "        text-align: right;\n",
       "    }\n",
       "</style>\n",
       "<table border=\"1\" class=\"dataframe\">\n",
       "  <thead>\n",
       "    <tr style=\"text-align: right;\">\n",
       "      <th></th>\n",
       "      <th>timestamp</th>\n",
       "      <th>new_bike_shares</th>\n",
       "      <th>temperature</th>\n",
       "      <th>feels_like_temp</th>\n",
       "      <th>humidity</th>\n",
       "      <th>wind_speed</th>\n",
       "      <th>is_weekend</th>\n",
       "      <th>time_hour</th>\n",
       "    </tr>\n",
       "  </thead>\n",
       "  <tbody>\n",
       "    <tr>\n",
       "      <th>0</th>\n",
       "      <td>2015-04-01 00:00:00</td>\n",
       "      <td>182</td>\n",
       "      <td>3.0</td>\n",
       "      <td>2.0</td>\n",
       "      <td>93.0</td>\n",
       "      <td>6.0</td>\n",
       "      <td>1</td>\n",
       "      <td>0</td>\n",
       "    </tr>\n",
       "    <tr>\n",
       "      <th>1</th>\n",
       "      <td>2015-04-01 01:00:00</td>\n",
       "      <td>138</td>\n",
       "      <td>3.0</td>\n",
       "      <td>2.5</td>\n",
       "      <td>93.0</td>\n",
       "      <td>5.0</td>\n",
       "      <td>1</td>\n",
       "      <td>1</td>\n",
       "    </tr>\n",
       "    <tr>\n",
       "      <th>2</th>\n",
       "      <td>2015-04-01 02:00:00</td>\n",
       "      <td>134</td>\n",
       "      <td>2.5</td>\n",
       "      <td>2.5</td>\n",
       "      <td>96.5</td>\n",
       "      <td>0.0</td>\n",
       "      <td>1</td>\n",
       "      <td>2</td>\n",
       "    </tr>\n",
       "    <tr>\n",
       "      <th>3</th>\n",
       "      <td>2015-04-01 03:00:00</td>\n",
       "      <td>72</td>\n",
       "      <td>2.0</td>\n",
       "      <td>2.0</td>\n",
       "      <td>100.0</td>\n",
       "      <td>0.0</td>\n",
       "      <td>1</td>\n",
       "      <td>3</td>\n",
       "    </tr>\n",
       "    <tr>\n",
       "      <th>4</th>\n",
       "      <td>2015-04-01 04:00:00</td>\n",
       "      <td>47</td>\n",
       "      <td>2.0</td>\n",
       "      <td>0.0</td>\n",
       "      <td>93.0</td>\n",
       "      <td>6.5</td>\n",
       "      <td>1</td>\n",
       "      <td>4</td>\n",
       "    </tr>\n",
       "  </tbody>\n",
       "</table>\n",
       "</div>"
      ],
      "text/plain": [
       "            timestamp  new_bike_shares  temperature  feels_like_temp  \\\n",
       "0 2015-04-01 00:00:00              182          3.0              2.0   \n",
       "1 2015-04-01 01:00:00              138          3.0              2.5   \n",
       "2 2015-04-01 02:00:00              134          2.5              2.5   \n",
       "3 2015-04-01 03:00:00               72          2.0              2.0   \n",
       "4 2015-04-01 04:00:00               47          2.0              0.0   \n",
       "\n",
       "   humidity  wind_speed  is_weekend  time_hour  \n",
       "0      93.0         6.0           1          0  \n",
       "1      93.0         5.0           1          1  \n",
       "2      96.5         0.0           1          2  \n",
       "3     100.0         0.0           1          3  \n",
       "4      93.0         6.5           1          4  "
      ]
     },
     "execution_count": 14,
     "metadata": {},
     "output_type": "execute_result"
    }
   ],
   "source": [
    "t2ab.head()"
   ]
  },
  {
   "cell_type": "code",
   "execution_count": 15,
   "metadata": {},
   "outputs": [
    {
     "data": {
      "image/png": "[encoded data removed]",
      "text/plain": [
       "<Figure size 1080x576 with 1 Axes>"
      ]
     },
     "metadata": {},
     "output_type": "display_data"
    }
   ],
   "source": [
    "import matplotlib.pyplot as plt\n",
    "\n",
    "plt.figure(figsize = (15,8))\n",
    "ax = sns.barplot(x=\"time_hour\", y=\"new_bike_shares\", data=t2ab)"
   ]
  },
  {
   "cell_type": "markdown",
   "metadata": {},
   "source": [
    "- Which hour is maximum bike shares on average.\n",
    "- Dvide it into day time, night time etc and then analysze"
   ]
  },
  {
   "cell_type": "code",
   "execution_count": 16,
   "metadata": {},
   "outputs": [
    {
     "name": "stdout",
     "output_type": "stream",
     "text": [
      "           new_bike_shares  temperature  feels_like_temp   humidity  \\\n",
      "time_hour                                                             \n",
      "8              2882.823204    11.357044        10.271409  77.421271   \n",
      "17             2829.585165    14.324863        13.521978  63.585852   \n",
      "18             2629.043956    13.910714        13.096841  65.581044   \n",
      "16             1869.801370    14.688356        13.876712  61.952740   \n",
      "9              1653.019257    12.198762        11.177442  73.858322   \n",
      "19             1651.510316    13.406465        12.543329  68.039890   \n",
      "15             1564.621399    14.857339        14.078875  61.081619   \n",
      "13             1505.739011    14.633929        13.870192  62.372940   \n",
      "14             1472.004121    14.846154        14.073489  61.366071   \n",
      "7              1468.745179    10.734848         9.605372  80.008953   \n",
      "12             1433.717421    14.281207        13.490398  64.089163   \n",
      "11             1151.218707    13.743466        12.897524  66.717331   \n",
      "10             1064.660690    13.033793        12.102759  69.994483   \n",
      "20             1059.781293    12.843879        11.961486  70.713893   \n",
      "21              741.249311    12.339532        11.404270  73.281680   \n",
      "22              592.409655    11.913103        10.958621  75.229655   \n",
      "6               466.626722    10.340220         9.207989  81.597107   \n",
      "23              439.652355    11.556094        10.557479  76.882271   \n",
      "0               290.609116    11.239641        10.238950  78.138467   \n",
      "1               201.167590    10.985226         9.955448  79.302632   \n",
      "2               137.652174    10.771388         9.704769  80.284011   \n",
      "5               110.841667    10.253472         9.150694  82.102083   \n",
      "3                96.862464    10.650430         9.602436  80.948424   \n",
      "4                73.859944    10.391457         9.285014  81.583333   \n",
      "\n",
      "           wind_speed  is_weekend  \n",
      "time_hour                          \n",
      "8           14.783840    0.284530  \n",
      "17          18.184753    0.287088  \n",
      "18          17.462912    0.287088  \n",
      "16          18.821233    0.286301  \n",
      "9           16.209766    0.284732  \n",
      "19          16.822558    0.286107  \n",
      "15          19.174897    0.286694  \n",
      "13          19.148352    0.287088  \n",
      "14          19.406593    0.287088  \n",
      "7           13.975207    0.285124  \n",
      "12          18.873800    0.286694  \n",
      "11          18.335626    0.284732  \n",
      "10          17.287586    0.282759  \n",
      "20          15.949106    0.286107  \n",
      "21          15.168733    0.286501  \n",
      "22          14.568276    0.286897  \n",
      "6           13.390496    0.285124  \n",
      "23          14.171053    0.283934  \n",
      "0           13.954075    0.284530  \n",
      "1           13.646584    0.283934  \n",
      "2           13.374474    0.286115  \n",
      "5           12.881250    0.284722  \n",
      "3           13.035100    0.293696  \n",
      "4           12.932773    0.285714  \n"
     ]
    },
    {
     "data": {
      "text/plain": [
       "Text(0.5, 1.0, 'mean bike_share per hour')"
      ]
     },
     "execution_count": 16,
     "metadata": {},
     "output_type": "execute_result"
    },
    {
     "data": {
      "image/png": "[encoded data removed]",
      "text/plain": [
       "<Figure size 1080x576 with 1 Axes>"
      ]
     },
     "metadata": {},
     "output_type": "display_data"
    }
   ],
   "source": [
    "#calculating mean bike_share for each time_hour and plotting it in the box graph to display mean visibly.\n",
    "a=t2ab.groupby(\"time_hour\")\n",
    "b=(a.mean('new_bike_shares'))\n",
    "print(b.sort_values(by=['new_bike_shares'],ascending=False))\n",
    "plt.figure(figsize = (15,8))\n",
    "ax = sns.boxplot(x=\"time_hour\", y=\"new_bike_shares\", data=t2ab)\n",
    "ax.set_title('mean bike_share per hour')\n"
   ]
  },
  {
   "cell_type": "markdown",
   "metadata": {},
   "source": [
    "In the table we have sorterd mean bikeshare in descending order where bike_share at 8:00 A.M. is maximum while at 5:00 P.M. is second highest. these are usual office or college hours. "
   ]
  },
  {
   "cell_type": "code",
   "execution_count": 16,
   "metadata": {},
   "outputs": [
    {
     "name": "stdout",
     "output_type": "stream",
     "text": [
      "           new_bike_shares  temperature  feels_like_temp   humidity  \\\n",
      "time_hour                                                             \n",
      "8              2882.823204    11.357044        10.271409  77.421271   \n",
      "17             2829.585165    14.324863        13.521978  63.585852   \n",
      "18             2629.043956    13.910714        13.096841  65.581044   \n",
      "16             1869.801370    14.688356        13.876712  61.952740   \n",
      "9              1653.019257    12.198762        11.177442  73.858322   \n",
      "19             1651.510316    13.406465        12.543329  68.039890   \n",
      "15             1564.621399    14.857339        14.078875  61.081619   \n",
      "13             1505.739011    14.633929        13.870192  62.372940   \n",
      "14             1472.004121    14.846154        14.073489  61.366071   \n",
      "7              1468.745179    10.734848         9.605372  80.008953   \n",
      "12             1433.717421    14.281207        13.490398  64.089163   \n",
      "11             1151.218707    13.743466        12.897524  66.717331   \n",
      "10             1064.660690    13.033793        12.102759  69.994483   \n",
      "20             1059.781293    12.843879        11.961486  70.713893   \n",
      "21              741.249311    12.339532        11.404270  73.281680   \n",
      "22              592.409655    11.913103        10.958621  75.229655   \n",
      "6               466.626722    10.340220         9.207989  81.597107   \n",
      "23              439.652355    11.556094        10.557479  76.882271   \n",
      "0               290.609116    11.239641        10.238950  78.138467   \n",
      "1               201.167590    10.985226         9.955448  79.302632   \n",
      "2               137.652174    10.771388         9.704769  80.284011   \n",
      "5               110.841667    10.253472         9.150694  82.102083   \n",
      "3                96.862464    10.650430         9.602436  80.948424   \n",
      "4                73.859944    10.391457         9.285014  81.583333   \n",
      "\n",
      "           wind_speed  is_weekend  \n",
      "time_hour                          \n",
      "8           14.783840    0.284530  \n",
      "17          18.184753    0.287088  \n",
      "18          17.462912    0.287088  \n",
      "16          18.821233    0.286301  \n",
      "9           16.209766    0.284732  \n",
      "19          16.822558    0.286107  \n",
      "15          19.174897    0.286694  \n",
      "13          19.148352    0.287088  \n",
      "14          19.406593    0.287088  \n",
      "7           13.975207    0.285124  \n",
      "12          18.873800    0.286694  \n",
      "11          18.335626    0.284732  \n",
      "10          17.287586    0.282759  \n",
      "20          15.949106    0.286107  \n",
      "21          15.168733    0.286501  \n",
      "22          14.568276    0.286897  \n",
      "6           13.390496    0.285124  \n",
      "23          14.171053    0.283934  \n",
      "0           13.954075    0.284530  \n",
      "1           13.646584    0.283934  \n",
      "2           13.374474    0.286115  \n",
      "5           12.881250    0.284722  \n",
      "3           13.035100    0.293696  \n",
      "4           12.932773    0.285714  \n"
     ]
    },
    {
     "data": {
      "image/png": "[encoded data removed]",
      "text/plain": [
       "<Figure size 1080x576 with 1 Axes>"
      ]
     },
     "metadata": {},
     "output_type": "display_data"
    }
   ],
   "source": []
  },
  {
   "cell_type": "code",
   "execution_count": 17,
   "metadata": {},
   "outputs": [
    {
     "name": "stdout",
     "output_type": "stream",
     "text": [
      "          new_bike_shares  temperature  feels_like_temp   humidity  \\\n",
      "day_time                                                             \n",
      "False         1483.740690    13.636358        12.789217  67.000974   \n",
      "True           804.620171    11.313594        10.272130  77.638301   \n",
      "\n",
      "          wind_speed  is_weekend  time_hour  \n",
      "day_time                                     \n",
      "False      17.317234    0.286467  17.492151  \n",
      "True       14.494284    0.285450   5.519084  \n"
     ]
    },
    {
     "data": {
      "text/plain": [
       "Text(0.5, 1.0, 'day-night bike share distribution')"
      ]
     },
     "execution_count": 17,
     "metadata": {},
     "output_type": "execute_result"
    },
    {
     "data": {
      "image/png": "[encoded data removed]",
      "text/plain": [
       "<Figure size 1080x576 with 1 Axes>"
      ]
     },
     "metadata": {},
     "output_type": "display_data"
    }
   ],
   "source": [
    "## calculating Daytime and nighttime bikeshare. we have created a new column which holds boolean value true and false (true for day false for night)\n",
    "t2ab['day_time']=t2ab['time_hour']<12\n",
    "a=t2ab.groupby(\"day_time\")\n",
    "b=(a.mean('new_bike_shares'))\n",
    "print(b.sort_values(by=['new_bike_shares'],ascending=False))\n",
    "plt.figure(figsize = (15,8))\n",
    "ax = sns.barplot(x=\"day_time\", y=\"new_bike_shares\", data=t2ab)\n",
    "ax.set_title(\"day-night bike share distribution\")\n"
   ]
  },
  {
   "cell_type": "markdown",
   "metadata": {},
   "source": [
    "from the graph above it is clear that bikeshare is more during night hours (after 12PM) "
   ]
  },
  {
   "cell_type": "markdown",
   "metadata": {
    "deletable": false
   },
   "source": [
    "<p style=\"color:red; font-weight:bold; font-size:xx-small\">MARK: __%</p>\n",
    "<p style=\"color:red; font-weight:bold; font-size:xx-small\">FEEDBACK: </p>"
   ]
  },
  {
   "cell_type": "markdown",
   "metadata": {
    "deletable": false
   },
   "source": [
    "### Requirement FR12 - Compare the distribution of bike shares by time of the week"
   ]
  },
  {
   "cell_type": "code",
   "execution_count": 26,
   "metadata": {},
   "outputs": [
    {
     "data": {
      "text/plain": [
       "Text(0.5, 1.0, 'hourwise weekly bikeshare data')"
      ]
     },
     "execution_count": 26,
     "metadata": {},
     "output_type": "execute_result"
    },
    {
     "data": {
      "image/png": "[encoded data removed]",
      "text/plain": [
       "<Figure size 1080x576 with 1 Axes>"
      ]
     },
     "metadata": {},
     "output_type": "display_data"
    }
   ],
   "source": [
    "\n",
    "t2ab['dayname']=t2ab['timestamp'].dt.strftime('%A')\n",
    "t2ab['dayname']=pd.Categorical(t2ab['dayname'],ordered = True , categories =['Monday','Tuesday','Wednesday','Thursday','Friday','Saturday','Sunday'])\n",
    "\n",
    "plt.figure(figsize = (15,8))\n",
    "ax = sns.barplot(x=\"dayname\", y=\"new_bike_shares\", data=t2ab)\n",
    "ax.set_title(\"hourwise weekly bikeshare data\")\n",
    "\n"
   ]
  },
  {
   "cell_type": "markdown",
   "metadata": {},
   "source": [
    "from the above graph it is clear that bikeshare is prefered mostly during weekdays, and less during weekend "
   ]
  },
  {
   "cell_type": "markdown",
   "metadata": {
    "deletable": false
   },
   "source": [
    "<p style=\"color:red; font-weight:bold; font-size:xx-small\">MARK: __%</p>\n",
    "<p style=\"color:red; font-weight:bold; font-size:xx-small\">FEEDBACK: </p>"
   ]
  },
  {
   "cell_type": "markdown",
   "metadata": {
    "deletable": false
   },
   "source": [
    "### Requirement FR13 - Investigate the effects of “feels like” temperature on the number of bike shares"
   ]
  },
  {
   "cell_type": "code",
   "execution_count": 27,
   "metadata": {},
   "outputs": [
    {
     "data": {
      "text/html": [
       "<div>\n",
       "<style scoped>\n",
       "    .dataframe tbody tr th:only-of-type {\n",
       "        vertical-align: middle;\n",
       "    }\n",
       "\n",
       "    .dataframe tbody tr th {\n",
       "        vertical-align: top;\n",
       "    }\n",
       "\n",
       "    .dataframe thead th {\n",
       "        text-align: right;\n",
       "    }\n",
       "</style>\n",
       "<table border=\"1\" class=\"dataframe\">\n",
       "  <thead>\n",
       "    <tr style=\"text-align: right;\">\n",
       "      <th></th>\n",
       "      <th>timestamp</th>\n",
       "      <th>new_bike_shares</th>\n",
       "      <th>temperature</th>\n",
       "      <th>feels_like_temp</th>\n",
       "      <th>humidity</th>\n",
       "      <th>wind_speed</th>\n",
       "      <th>is_weekend</th>\n",
       "      <th>time_hour</th>\n",
       "      <th>day_time</th>\n",
       "      <th>dayname</th>\n",
       "    </tr>\n",
       "  </thead>\n",
       "  <tbody>\n",
       "    <tr>\n",
       "      <th>0</th>\n",
       "      <td>2015-04-01 00:00:00</td>\n",
       "      <td>182</td>\n",
       "      <td>3.0</td>\n",
       "      <td>2.0</td>\n",
       "      <td>93.0</td>\n",
       "      <td>6.0</td>\n",
       "      <td>1</td>\n",
       "      <td>0</td>\n",
       "      <td>True</td>\n",
       "      <td>Wednesday</td>\n",
       "    </tr>\n",
       "    <tr>\n",
       "      <th>1</th>\n",
       "      <td>2015-04-01 01:00:00</td>\n",
       "      <td>138</td>\n",
       "      <td>3.0</td>\n",
       "      <td>2.5</td>\n",
       "      <td>93.0</td>\n",
       "      <td>5.0</td>\n",
       "      <td>1</td>\n",
       "      <td>1</td>\n",
       "      <td>True</td>\n",
       "      <td>Wednesday</td>\n",
       "    </tr>\n",
       "    <tr>\n",
       "      <th>2</th>\n",
       "      <td>2015-04-01 02:00:00</td>\n",
       "      <td>134</td>\n",
       "      <td>2.5</td>\n",
       "      <td>2.5</td>\n",
       "      <td>96.5</td>\n",
       "      <td>0.0</td>\n",
       "      <td>1</td>\n",
       "      <td>2</td>\n",
       "      <td>True</td>\n",
       "      <td>Wednesday</td>\n",
       "    </tr>\n",
       "    <tr>\n",
       "      <th>3</th>\n",
       "      <td>2015-04-01 03:00:00</td>\n",
       "      <td>72</td>\n",
       "      <td>2.0</td>\n",
       "      <td>2.0</td>\n",
       "      <td>100.0</td>\n",
       "      <td>0.0</td>\n",
       "      <td>1</td>\n",
       "      <td>3</td>\n",
       "      <td>True</td>\n",
       "      <td>Wednesday</td>\n",
       "    </tr>\n",
       "    <tr>\n",
       "      <th>4</th>\n",
       "      <td>2015-04-01 04:00:00</td>\n",
       "      <td>47</td>\n",
       "      <td>2.0</td>\n",
       "      <td>0.0</td>\n",
       "      <td>93.0</td>\n",
       "      <td>6.5</td>\n",
       "      <td>1</td>\n",
       "      <td>4</td>\n",
       "      <td>True</td>\n",
       "      <td>Wednesday</td>\n",
       "    </tr>\n",
       "  </tbody>\n",
       "</table>\n",
       "</div>"
      ],
      "text/plain": [
       "            timestamp  new_bike_shares  temperature  feels_like_temp  \\\n",
       "0 2015-04-01 00:00:00              182          3.0              2.0   \n",
       "1 2015-04-01 01:00:00              138          3.0              2.5   \n",
       "2 2015-04-01 02:00:00              134          2.5              2.5   \n",
       "3 2015-04-01 03:00:00               72          2.0              2.0   \n",
       "4 2015-04-01 04:00:00               47          2.0              0.0   \n",
       "\n",
       "   humidity  wind_speed  is_weekend  time_hour  day_time    dayname  \n",
       "0      93.0         6.0           1          0      True  Wednesday  \n",
       "1      93.0         5.0           1          1      True  Wednesday  \n",
       "2      96.5         0.0           1          2      True  Wednesday  \n",
       "3     100.0         0.0           1          3      True  Wednesday  \n",
       "4      93.0         6.5           1          4      True  Wednesday  "
      ]
     },
     "execution_count": 27,
     "metadata": {},
     "output_type": "execute_result"
    }
   ],
   "source": [
    "t2ab.head()"
   ]
  },
  {
   "cell_type": "code",
   "execution_count": 28,
   "metadata": {},
   "outputs": [
    {
     "data": {
      "text/plain": [
       "<BarContainer object of 17373 artists>"
      ]
     },
     "execution_count": 28,
     "metadata": {},
     "output_type": "execute_result"
    },
    {
     "data": {
      "image/png": "[encoded data removed]",
      "text/plain": [
       "<Figure size 432x288 with 1 Axes>"
      ]
     },
     "metadata": {},
     "output_type": "display_data"
    }
   ],
   "source": [
    "# how does temperature affect number of bike shares?\n",
    "plt.title(\"Temprature impact on bike shares\")\n",
    "\n",
    "#bar and line chart normal distribution without grouping\n",
    "plt.bar(t2ab.feels_like_temp, t2ab.new_bike_shares)"
   ]
  },
  {
   "cell_type": "code",
   "execution_count": 29,
   "metadata": {},
   "outputs": [
    {
     "name": "stderr",
     "output_type": "stream",
     "text": [
      "C:\\Users\\L460\\anaconda3\\lib\\site-packages\\seaborn\\categorical.py:3717: UserWarning: The `factorplot` function has been renamed to `catplot`. The original name will be removed in a future release. Please update your code. Note that the default `kind` in `factorplot` (`'point'`) has changed `'strip'` in `catplot`.\n",
      "  warnings.warn(msg)\n"
     ]
    },
    {
     "data": {
      "text/plain": [
       "<seaborn.axisgrid.FacetGrid at 0x1a729a27220>"
      ]
     },
     "execution_count": 29,
     "metadata": {},
     "output_type": "execute_result"
    },
    {
     "data": {
      "image/png": "[encoded data removed]",
      "text/plain": [
       "<Figure size 360x360 with 1 Axes>"
      ]
     },
     "metadata": {},
     "output_type": "display_data"
    }
   ],
   "source": [
    "df = t2ab.copy()\n",
    "df['feels_like_temp_bin'] = np.floor(df['feels_like_temp'])//5\n",
    "df['feels_like_temp_bin'].unique()\n",
    "# now we can visualize as follows\n",
    "sns.factorplot(x=\"feels_like_temp_bin\", y=\"new_bike_shares\", data= df, kind= \"bar\")"
   ]
  },
  {
   "cell_type": "markdown",
   "metadata": {},
   "source": [
    "bike share is more when feels like temperature is around 5.0 temp bin"
   ]
  },
  {
   "cell_type": "markdown",
   "metadata": {
    "deletable": false
   },
   "source": [
    "<p style=\"color:red; font-weight:bold; font-size:xx-small\">MARK: __%</p>\n",
    "<p style=\"color:red; font-weight:bold; font-size:xx-small\">FEEDBACK: </p>"
   ]
  },
  {
   "cell_type": "markdown",
   "metadata": {
    "deletable": false
   },
   "source": [
    "### Requirement FR14 - Test the hypothesis that “feels like” temperature has an effect on the number of bike shares"
   ]
  },
  {
   "cell_type": "code",
   "execution_count": null,
   "metadata": {
    "scrolled": true
   },
   "outputs": [],
   "source": [
    "# we are creating temperature slices for better analysis\n",
    "temp_df = t2ab.groupby(['feels_like_temp'])['new_bike_shares'].sum().reset_index()\n",
    "print(temp_df)\n",
    "\n",
    "temp_df['quartile'] = pd.qcut(temp_df['feels_like_temp'], \n",
    "                              q=[0, .2, .4, .6, .8, 1], \n",
    "\n",
    "precision=0)\n",
    "\n",
    "print(temp_df)  #make the bins clearer and then regraph this\n",
    "\n",
    "fig, axs = plt.subplots(figsize=(12, 4))\n",
    "\n",
    "temp_df.groupby(temp_df[\"quartile\"])[\"new_bike_shares\"].mean().plot(kind='bar', rot=0, ax=axs)\n",
    "plt.xlabel(\"Temperature\");  # custom x label using matplotlib\n",
    "plt.ylabel(\"Mean number of bike shares\");\n",
    "\n",
    "#chart title\n",
    "plt.title('Temperature')"
   ]
  },
  {
   "cell_type": "markdown",
   "metadata": {},
   "source": [
    "when temprature is aroung 10-18 bike share is maximum"
   ]
  },
  {
   "cell_type": "markdown",
   "metadata": {},
   "source": [
    "We can do a correlation test using Spearman's Rank Correlation test to assess if \"feels like\" temperature and number of bike shares is correlated. Spearman's Correlation is a non-parametric rank correlation. In this instead of calculating the coefficient using covariance and standard deviations on the samples themselves, these statistics are calculated by converting the raw data into rank data hence non-parametric. This is a common approach used in non-parametric statistics.\n",
    "\n",
    "𝐻o : \"new_bike_shares\" and \"feels_like_temp\" are not correlated.        \n",
    "alpha : 0.05"
   ]
  },
  {
   "cell_type": "code",
   "execution_count": 29,
   "metadata": {},
   "outputs": [
    {
     "name": "stdout",
     "output_type": "stream",
     "text": [
      "\n",
      "* new_bike_shares & feels_like_temp \n",
      "\n",
      "corr: 0.3849 \t p: 0.0\n",
      "Rejected H0 under significance level 0.05, new_bike_shares & feels_like_temp are correlated\n"
     ]
    }
   ],
   "source": [
    "import scipy.stats as stats\n",
    "corr, p = stats.spearmanr(t2ab.new_bike_shares, t2ab[\"feels_like_temp\"])\n",
    "\n",
    "ALPHA = 0.05\n",
    "\n",
    "print(f'\\n* new_bike_shares & feels_like_temp \\n')\n",
    "print(f'corr: {round(corr, 4)} \\t p: {p}')\n",
    "\n",
    "if p <= ALPHA:\n",
    "    print(f'Rejected H0 under significance level {ALPHA}, new_bike_shares & feels_like_temp are correlated')\n",
    "else:\n",
    "    print(f'''Fail to reject H0 due to lack of evidence under significance level {ALPHA}, \n",
    "          new_bike_shares & feels_like_temp are not correlated''')"
   ]
  },
  {
   "cell_type": "markdown",
   "metadata": {},
   "source": [
    "According to the spearsman correlation test new_bike_share and Feels_like_temp are correlated. (positively)"
   ]
  },
  {
   "cell_type": "code",
   "execution_count": null,
   "metadata": {},
   "outputs": [],
   "source": []
  },
  {
   "cell_type": "code",
   "execution_count": null,
   "metadata": {},
   "outputs": [],
   "source": []
  },
  {
   "cell_type": "code",
   "execution_count": null,
   "metadata": {},
   "outputs": [],
   "source": []
  },
  {
   "cell_type": "code",
   "execution_count": null,
   "metadata": {},
   "outputs": [],
   "source": []
  },
  {
   "cell_type": "code",
   "execution_count": null,
   "metadata": {},
   "outputs": [],
   "source": []
  },
  {
   "cell_type": "markdown",
   "metadata": {
    "deletable": false
   },
   "source": [
    "<p style=\"color:red; font-weight:bold; font-size:xx-small\">MARK: __%</p>\n",
    "<p style=\"color:red; font-weight:bold; font-size:xx-small\">FEEDBACK: </p>"
   ]
  },
  {
   "cell_type": "markdown",
   "metadata": {
    "deletable": false
   },
   "source": [
    "# Coding Standards\n",
    "<p style=\"color:red; font-weight:bold; font-size:xx-small\">MARK: __%</p>\n",
    "<p style=\"color:red; font-weight:bold; font-size:xx-small\">FEEDBACK: </p>"
   ]
  },
  {
   "cell_type": "markdown",
   "metadata": {},
   "source": [
    "# Process Development Report for Programming Task 2\n"
   ]
  },
  {
   "cell_type": "markdown",
   "metadata": {},
   "source": [
    "Process Development for task2\n",
    "Task 2 mainly consisted of plotting graphs and creating a visual representation of data. we were suppose to various analysis and genereate relevant graphs to display our data pictorically. intially we were provided with 2 csv which we merged based on timestamp values. the resultant csv now holds the data of bike_share for each hour and also holds data related to climatic conditions. through various graphs we concluded that\n",
    "- bike share is more on weekdays and less in weekends(sat,sunday)\n",
    "- bike share is more in start end end of working hoours(8:00 AM and 5:00PM) while less throughout the day\n",
    "- bikeshare is prefered mostly in evening sessions than to morning\n",
    "- with increase in temprature(feels_like temprature) bike share increases\n",
    "\n",
    "different types of graph can be used for better representation, pie chart would have been better for week day distribution of data. Infact we can carry more analysis like monthwise bikeshare or season wise.. \n"
   ]
  },
  {
   "cell_type": "markdown",
   "metadata": {},
   "source": [
    "<p style=\"color:red; font-weight:bold; font-size:xx-small\">MARK: __%</p>\n",
    "<p style=\"color:red; font-weight:bold; font-size:xx-small\">FEEDBACK: </p>"
   ]
  }
 ],
 "metadata": {
  "kernelspec": {
   "display_name": "Python 3 (ipykernel)",
   "language": "python",
   "name": "python3"
  },
  "language_info": {
   "codemirror_mode": {
    "name": "ipython",
    "version": 3
   },
   "file_extension": ".py",
   "mimetype": "text/x-python",
   "name": "python",
   "nbconvert_exporter": "python",
   "pygments_lexer": "ipython3",
   "version": "3.9.7"
  },
  "toc": {
   "base_numbering": 1,
   "nav_menu": {},
   "number_sections": true,
   "sideBar": true,
   "skip_h1_title": false,
   "title_cell": "Table of Contents",
   "title_sidebar": "Contents",
   "toc_cell": false,
   "toc_position": {},
   "toc_section_display": true,
   "toc_window_display": false
  }
 },
 "nbformat": 4,
 "nbformat_minor": 4
}
